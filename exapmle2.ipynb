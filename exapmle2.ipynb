{
 "cells": [
  {
   "cell_type": "code",
   "execution_count": 1,
   "id": "506d6083-e835-4064-b61c-90fa43763263",
   "metadata": {},
   "outputs": [],
   "source": [
    "from collections import Counter"
   ]
  },
  {
   "cell_type": "code",
   "execution_count": 2,
   "id": "7c57edd6-fa0c-4b5e-ab08-1b2d5889c36f",
   "metadata": {},
   "outputs": [],
   "source": [
    "def collect_data():\n",
    "    # List of hat colors\n",
    "    hats = ['red', 'red', 'blue', 'blue', 'yellow', 'red', 'blue', 'yellow', 'green', \n",
    "            'black', 'blue', 'red', 'yellow', 'blue', 'black', 'black', 'red', 'green', 'yellow']\n",
    "    return hats\n"
   ]
  },
  {
   "cell_type": "code",
   "execution_count": 3,
   "id": "b50032ea-30fb-4d78-ba3c-40928ea31a33",
   "metadata": {},
   "outputs": [],
   "source": [
    "data = [color.capitalize() for color in collect_data()]"
   ]
  },
  {
   "cell_type": "code",
   "execution_count": 4,
   "id": "384654f8-1898-44fb-9fee-12845a980807",
   "metadata": {},
   "outputs": [],
   "source": [
    "count = Counter(data)"
   ]
  },
  {
   "cell_type": "code",
   "execution_count": 5,
   "id": "9896cdb3-7e96-4ee9-af88-0d1452a0a5a5",
   "metadata": {},
   "outputs": [
    {
     "name": "stdout",
     "output_type": "stream",
     "text": [
      "Counter({'Red': 5, 'Blue': 5, 'Yellow': 4, 'Black': 3, 'Green': 2})\n"
     ]
    }
   ],
   "source": [
    "print(count)"
   ]
  }
 ],
 "metadata": {
  "kernelspec": {
   "display_name": "Python 3 (ipykernel)",
   "language": "python",
   "name": "python3"
  },
  "language_info": {
   "codemirror_mode": {
    "name": "ipython",
    "version": 3
   },
   "file_extension": ".py",
   "mimetype": "text/x-python",
   "name": "python",
   "nbconvert_exporter": "python",
   "pygments_lexer": "ipython3",
   "version": "3.12.7"
  }
 },
 "nbformat": 4,
 "nbformat_minor": 5
}
