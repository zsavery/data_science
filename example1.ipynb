{
 "cells": [
  {
   "cell_type": "code",
   "execution_count": null,
   "id": "fe751bc2-e0b2-4a9a-8578-f6fe416d3d00",
   "metadata": {},
   "outputs": [],
   "source": [
    "def collect_data():\n",
    "    # List of hat colors\n",
    "    hats = ['red', 'red', 'blue', 'blue', 'yellow', 'red', 'blue', 'yellow', 'green', \n",
    "            'black', 'blue', 'red', 'yellow', 'blue', 'black', 'black', 'red', 'green', 'yellow']\n",
    "    return hats\n",
    "\n",
    "def process_data(hats):\n",
    "    # Count occurrences of each color\n",
    "    hat_counts = {}\n",
    "    for hat in hats:\n",
    "        if hat in hat_counts:\n",
    "            hat_counts[hat] += 1\n",
    "        else:\n",
    "            hat_counts[hat] = 1\n",
    "    return hat_counts\n",
    "\n",
    "def display_data(hat_counts):\n",
    "    # Display the data\n",
    "    for color, count in hat_counts.items():\n",
    "        print(f\"{color.capitalize()}: {count}\")\n",
    "\n",
    "if __name__ == \"__main__\":\n",
    "    hat_data = collect_data()\n",
    "    processed_data = process_data(hat_data)\n",
    "    display_data(processed_data)"
   ]
  }
 ],
 "metadata": {
  "kernelspec": {
   "display_name": "Python 3 (ipykernel)",
   "language": "python",
   "name": "python3"
  },
  "language_info": {
   "codemirror_mode": {
    "name": "ipython",
    "version": 3
   },
   "file_extension": ".py",
   "mimetype": "text/x-python",
   "name": "python",
   "nbconvert_exporter": "python",
   "pygments_lexer": "ipython3",
   "version": "3.12.7"
  }
 },
 "nbformat": 4,
 "nbformat_minor": 5
}
