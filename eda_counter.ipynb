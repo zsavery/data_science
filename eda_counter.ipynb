{
 "cells": [
  {
   "cell_type": "code",
   "execution_count": 6,
   "id": "8592e3e9",
   "metadata": {},
   "outputs": [],
   "source": [
    "from collections import Counter"
   ]
  },
  {
   "cell_type": "code",
   "execution_count": 7,
   "id": "5e72c5d2",
   "metadata": {},
   "outputs": [],
   "source": [
    "def basic_eda(text: str):\n",
    "    # format text\n",
    "    text = text.replace(\"\\n\", \" \").lower()\n",
    "    text = \"\".join(char for char in text if char.isalnum() or char.isspace())\n",
    "\n",
    "    # to list\n",
    "    words = text.split()\n",
    "    word_counts = Counter(words)\n",
    "    most_common_word, frequency = word_counts.most_common(1)[0]\n",
    "\n",
    "    print(\"Total words:\", len(words))\n",
    "    print(\"Unique words:\", len(word_counts))\n",
    "    print(\"Most frequently occurring word:\", most_common_word)\n",
    "    print(\"Frequency:\", frequency)\n",
    "    \n",
    "\n"
   ]
  },
  {
   "cell_type": "code",
   "execution_count": 8,
   "id": "506d6083-e835-4064-b61c-90fa43763263",
   "metadata": {},
   "outputs": [],
   "source": [
    "with open(\"sample.txt\", \"r\") as file:\n",
    "    sample_text = file.read()"
   ]
  },
  {
   "cell_type": "code",
   "execution_count": 9,
   "id": "8a721269",
   "metadata": {},
   "outputs": [],
   "source": [
    "# print(sample_text)"
   ]
  },
  {
   "cell_type": "code",
   "execution_count": 10,
   "id": "7441f207",
   "metadata": {},
   "outputs": [
    {
     "name": "stdout",
     "output_type": "stream",
     "text": [
      "Total words: 497\n",
      "Unique words: 243\n",
      "Most frequently occurring word: the\n",
      "Frequency: 36\n"
     ]
    }
   ],
   "source": [
    "basic_eda(sample_text)"
   ]
  },
  {
   "cell_type": "code",
   "execution_count": null,
   "id": "520b8bc7",
   "metadata": {},
   "outputs": [],
   "source": []
  }
 ],
 "metadata": {
  "kernelspec": {
   "display_name": "Python (Anaconda)",
   "language": "python",
   "name": "base"
  },
  "language_info": {
   "codemirror_mode": {
    "name": "ipython",
    "version": 3
   },
   "file_extension": ".py",
   "mimetype": "text/x-python",
   "name": "python",
   "nbconvert_exporter": "python",
   "pygments_lexer": "ipython3",
   "version": "3.12.7"
  }
 },
 "nbformat": 4,
 "nbformat_minor": 5
}
