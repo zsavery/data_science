{
 "cells": [
  {
   "cell_type": "markdown",
   "id": "82498b4a",
   "metadata": {},
   "source": [
    "# Evaluating Data Analysis"
   ]
  },
  {
   "cell_type": "code",
   "execution_count": 1,
   "id": "506d6083-e835-4064-b61c-90fa43763263",
   "metadata": {},
   "outputs": [],
   "source": [
    "from collections import Counter"
   ]
  },
  {
   "cell_type": "code",
   "execution_count": null,
   "id": "d61ded29",
   "metadata": {},
   "outputs": [],
   "source": [
    "def basic_eda(text: str):\n",
    "    # format text/clean data\n",
    "    \n",
    "    # split text into list\n",
    "    words = []\n",
    "\n",
    "    # count each words\n",
    "    word_counts = {}\n",
    "\n",
    "    # get most common word and frequency\n",
    "    most_common_word = []\n",
    "    frequency = 0\n",
    "\n",
    "    # output\n",
    "    print(\"Total words:\", len(words))\n",
    "    print(\"Unique words:\", len(word_counts))\n",
    "    print(\"Most frequently occurring word:\", most_common_word)\n",
    "    print(\"Frequency:\", frequency)\n",
    "    print(\"Word counts:\", word_counts)"
   ]
  },
  {
   "cell_type": "code",
   "execution_count": null,
   "id": "9f80c4d6",
   "metadata": {},
   "outputs": [],
   "source": [
    "# open file and save contents to sample_text\n",
    "with open(\"sample.txt\", \"r\") as file:\n",
    "    sample_text = None"
   ]
  },
  {
   "cell_type": "code",
   "execution_count": null,
   "id": "f97a5c7c",
   "metadata": {},
   "outputs": [],
   "source": [
    "# call function\n"
   ]
  }
 ],
 "metadata": {
  "kernelspec": {
   "display_name": "Python (Anaconda)",
   "language": "python",
   "name": "base"
  },
  "language_info": {
   "codemirror_mode": {
    "name": "ipython",
    "version": 3
   },
   "file_extension": ".py",
   "mimetype": "text/x-python",
   "name": "python",
   "nbconvert_exporter": "python",
   "pygments_lexer": "ipython3",
   "version": "3.12.7"
  }
 },
 "nbformat": 4,
 "nbformat_minor": 5
}
