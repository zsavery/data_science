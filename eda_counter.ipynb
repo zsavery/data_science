{
 "cells": [
  {
   "cell_type": "code",
   "execution_count": 11,
   "id": "8592e3e9",
   "metadata": {},
   "outputs": [],
   "source": [
    "from collections import Counter"
   ]
  },
  {
   "cell_type": "code",
   "execution_count": null,
   "id": "5e72c5d2",
   "metadata": {},
   "outputs": [],
   "source": [
    "def basic_eda(text: str):\n",
    "    # format text\n",
    "    text = text.replace(\"\\n\", \" \").lower()\n",
    "    text = \"\".join(char for char in text if char.isalnum() or char.isspace())\n",
    "\n",
    "    # to list\n",
    "    words = text.split()\n",
    "    word_counts = Counter(words)\n",
    "    most_common_word, frequency = word_counts.most_common(1)[0]\n",
    "\n",
    "    print(\"Total words:\", len(words))\n",
    "    print(\"Unique words:\", len(word_counts))\n",
    "    print(\"Most frequently occurring word:\", most_common_word)\n",
    "    print(\"Frequency:\", frequency)\n",
    "    print(\"Word counts:\", word_counts)\n",
    "    "
   ]
  },
  {
   "cell_type": "code",
   "execution_count": 13,
   "id": "506d6083-e835-4064-b61c-90fa43763263",
   "metadata": {},
   "outputs": [],
   "source": [
    "with open(\"sample.txt\", \"r\") as file:\n",
    "    sample_text = file.read()"
   ]
  },
  {
   "cell_type": "code",
   "execution_count": 14,
   "id": "8a721269",
   "metadata": {},
   "outputs": [],
   "source": [
    "# print(sample_text)"
   ]
  },
  {
   "cell_type": "code",
   "execution_count": 15,
   "id": "7441f207",
   "metadata": {},
   "outputs": [
    {
     "name": "stdout",
     "output_type": "stream",
     "text": [
      "Total words: 497\n",
      "Unique words: 243\n",
      "Most frequently occurring word: the\n",
      "Frequency: 36\n",
      "Word counts: Counter({'the': 36, 'and': 18, 'to': 14, 'a': 12, 'old': 10, 'in': 10, 'of': 10, 'they': 9, 'for': 7, 'seven': 6, 'samurai': 6, 'robbers': 6, 'raiko': 6, 'you': 6, 'had': 5, 'their': 5, 'it': 5, 'said': 5, 'on': 4, 'mountain': 4, 'with': 4, 'but': 4, 'men': 4, 'emperor': 4, 'them': 4, 'an': 4, 'too': 4, 'no': 4, 'as': 4, 'time': 3, 'off': 3, 'again': 3, 'this': 3, 'last': 3, 'do': 3, 'go': 3, 'bandits': 3, 'can': 3, 'come': 3, 'we': 3, 'upon': 2, 'far': 2, 'always': 2, 'cave': 2, 'now': 2, 'could': 2, 'lay': 2, 'there': 2, 'at': 2, 'sent': 2, 'his': 2, 'one': 2, 'served': 2, 'army': 2, 'out': 2, 'these': 2, 'your': 2, 'if': 2, 'i': 2, 'replied': 2, 'up': 2, 'like': 2, 'all': 2, 'have': 2, 'us': 2, 'few': 2, 'later': 2, 'pilgrims': 2, 'from': 2, 'leader': 2, 'let': 2, 'wind': 2, 'corner': 2, 'so': 2, 'food': 2, 'saying': 2, 'is': 2, 'our': 2, 'sake': 2, 'blink': 2, 'eye': 2, 'once': 1, 'japan': 1, 'band': 1, 'fierce': 1, 'hiding': 1, 'place': 1, 'top': 1, 'almost': 1, 'covered': 1, 'grey': 1, 'clouds': 1, 'windswept': 1, 'battered': 1, 'by': 1, 'storms': 1, 'lived': 1, 'large': 1, 'where': 1, 'piled': 1, 'spoils': 1, 'went': 1, 'down': 1, 'attacked': 1, 'village': 1, 'murdered': 1, 'poor': 1, 'folk': 1, 'chanced': 1, 'stole': 1, 'whatever': 1, 'hands': 1, 'burned': 1, 'ground': 1, 'wherever': 1, 'passed': 1, 'was': 1, 'nothing': 1, 'smoking': 1, 'ruins': 1, 'weeping': 1, 'women': 1, 'misery': 1, 'mournlng': 1, 'desolation': 1, 'worried': 1, 'soldiers': 1, 'attack': 1, 'managed': 1, 'drive': 1, 'remaining': 1, 'him': 1, 'youve': 1, 'me': 1, 'many': 1, 'years': 1, 'my': 1, 'bidding': 1, 'head': 1, 'wipe': 1, 'bloodthirsty': 1, 'sighed': 1, 'majesty': 1, 'were': 1, 'young': 1, 'id': 1, 'alone': 1, 'today': 1, 'im': 1, 'that': 1, 'or': 1, 'command': 1, 'must': 1, 'then': 1, 'submit': 1, 'force': 1, 'marauding': 1, 'ill': 1, 'six': 1, 'myself': 1, 'theyre': 1, 'how': 1, 'help': 1, 'faith': 1, 'days': 1, 'set': 1, 'journey': 1, 'not': 1, 'horses': 1, 'swords': 1, 'shields': 1, 'armour': 1, 'which': 1, 'longer': 1, 'worn': 1, 'anyway': 1, 'dressed': 1, 'humble': 1, 'summit': 1, 'watched': 1, 'who': 1, 'cares': 1, 'about': 1, 'beggars': 1, 'climb': 1, 'reached': 1, 'humbly': 1, 'its': 1, 'cold': 1, 'outside': 1, 'theres': 1, 'blowing': 1, 'see': 1, 'are': 1, 'well': 1, 'be': 1, 'trouble': 1, 'gang': 1, 'scornfully': 1, 'stay': 1, 'huddled': 1, 'while': 1, 'ate': 1, 'meal': 1, 'stolen': 1, 'villages': 1, 'nearby': 1, 'threw': 1, 'scraps': 1, 'leftovers': 1, 'eat': 1, 'much': 1, 'good': 1, 'hours': 1, 'rose': 1, 'feet': 1, 'has': 1, 'dropped': 1, 'way': 1, 'thanks': 1, 'hospitality': 1, 'would': 1, 'offer': 1, 'liqueur': 1, 'rice': 1, 'wine': 1, 'drink': 1, 'health': 1, 'needed': 1, 'second': 1, 'telling': 1, 'emptied': 1, 'goatskin': 1, 'bottle': 1, 'raika': 1, 'held': 1, 'dead': 1, 'contained': 1, 'very': 1, 'potent': 1, 'poison': 1, 'wield': 1, 'sword': 1})\n"
     ]
    }
   ],
   "source": [
    "basic_eda(sample_text)"
   ]
  },
  {
   "cell_type": "code",
   "execution_count": null,
   "id": "520b8bc7",
   "metadata": {},
   "outputs": [],
   "source": []
  }
 ],
 "metadata": {
  "kernelspec": {
   "display_name": "Python (Anaconda)",
   "language": "python",
   "name": "base"
  },
  "language_info": {
   "codemirror_mode": {
    "name": "ipython",
    "version": 3
   },
   "file_extension": ".py",
   "mimetype": "text/x-python",
   "name": "python",
   "nbconvert_exporter": "python",
   "pygments_lexer": "ipython3",
   "version": "3.12.7"
  }
 },
 "nbformat": 4,
 "nbformat_minor": 5
}
